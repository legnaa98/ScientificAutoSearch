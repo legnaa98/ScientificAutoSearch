{
 "cells": [
  {
   "cell_type": "markdown",
   "metadata": {},
   "source": [
    "# Just messing around with scholarly"
   ]
  },
  {
   "cell_type": "code",
   "execution_count": 1,
   "metadata": {},
   "outputs": [],
   "source": [
    "import scholarly"
   ]
  },
  {
   "cell_type": "code",
   "execution_count": 2,
   "metadata": {},
   "outputs": [],
   "source": [
    "lastName = scholarly.search_author('Alejandro Angel Ceballos')\n",
    "author = next(lastName).fill()"
   ]
  },
  {
   "cell_type": "code",
   "execution_count": 3,
   "metadata": {},
   "outputs": [
    {
     "name": "stdout",
     "output_type": "stream",
     "text": [
      "{'_filled': True,\n",
      " 'affiliation': 'Undergraduate Student, Universidad Pontificia Bolivariana',\n",
      " 'cites_per_year': {},\n",
      " 'coauthors': [],\n",
      " 'email': '@upb.edu.co',\n",
      " 'hindex': 0,\n",
      " 'hindex5y': 0,\n",
      " 'i10index': 0,\n",
      " 'i10index5y': 0,\n",
      " 'id': '_6-eI6IAAAAJ',\n",
      " 'interests': ['Aerospace Engineering',\n",
      "               'Numerical Methods',\n",
      "               'Computational Modeling'],\n",
      " 'name': 'Alejandro Angel Ceballos',\n",
      " 'publications': [<scholarly.scholarly.Publication object at 0x7ff02fc3f438>],\n",
      " 'url_picture': 'https://scholar.google.com/citations?view_op=medium_photo&user=_6-eI6IAAAAJ'}\n"
     ]
    }
   ],
   "source": [
    "print(author)"
   ]
  },
  {
   "cell_type": "code",
   "execution_count": 30,
   "metadata": {},
   "outputs": [
    {
     "name": "stdout",
     "output_type": "stream",
     "text": [
      "['Development and illustrative outputs of the Community Integrated Assessment System (CIAS), a multi-institutional modular integrated assessment approach for modelling climate change', 'Broadening the sense of ‘dynamic’: a microworld to support students’ mathematical generalisation', 'The design of a system to support exploratory learning of algebraic generalisation', 'Not all wizards are from Oz: Iterative design of intelligent learning environments by communication capacity tapering', 'Design requirements, student perception indicators and validation metrics for intelligent exploratory learning environments', 'Layered development and evaluation for intelligent support in exploratory environments: the case of microworlds', 'Design of teacher assistance tools in an exploratory learning environment for algebraic generalization', 'Design and evaluation of teacher assistance tools for exploratory learning environments', 'A separation of concerns for engineering intelligent support for exploratory learning environments', 'Affective learning: improving engagement and enhancing learning with affect-aware feedback', 'Authoring courses with rich adaptive sequencing for IMS learning design', 'Affecting off-task behaviour: how affect-aware feedback can improve student learning', 'A parametric exercise based tutoring system', \"Light-bulb moment?: towards adaptive presentation of feedback based on students' affective state\", 'Exploring the potential of speech recognition to support problem solving and reflection', 'S.: The challenge of intelligent support in exploratory learning environments: A study of the scenarios', 'Affect matters: Exploring the impact of feedback during mathematical tasks in an exploratory environment', 'Adapting feedback types according to students’ affective states', 'Enhanced javascript learning using code quality tools and a rule-based system in the flip exploratory learning environment', 'Authoring of probabilistic sequencing in adaptive hypermedia with bayesian networks', 'A case-based reasoning approach to provide adaptive feedback in microworlds', 'Using pattern construction and analysis in an exploratory learning environment for understanding mathematical generalisation: The potential for intelligent support', 'Minimal invasive integration of learning analytics services in intelligent tutoring systems', 'The impact of feedback on students’ affective states', 'Quasi-synchronous noise interference cancellation techniques applied in low voltage PLC', 'Challenges for intelligent support in exploratory learning: the case of ShapeBuilder', 'Smart meters enable synchrophasor applications in distribution grids', 'Iterative context engineering to inform the design of intelligent exploratory learning environments for the classroom', 'Sequence detection for adaptive feedback generation in an exploratory environment for mathematical generalisation', 'Intelligent Support for Exploratory Environments: Where are We and Where Do We Want to Go?', 'Similarity-based grouping to support teachers on collaborative activities in an exploratory mathematical microworld', \"Graph-based modelling of students' interaction data from exploratory learning environments\", 'Usage scenarios and evaluation of teacher assistance tools for exploratory learning environments', 'Adaptive modelling of users’ strategies in exploratory learning using case-based reasoning', 'Learner modelling in microworlds: conceptual model and architecture in Mi-Gen', 'Guaranteeing the correctness of an adaptive tutoring system', 'Eclipse student (in) activity detection tool', 'Employing speech to contribute to modelling and adapting to students’ affective states', 'Interventions during student multimodal learning activities: which, and why?', 'Analysing and supporting students’ interactions in synthesized learning environments: A case study with a microworld and a discussion tool', 'Layered learner modelling in ill-defined domains: conceptual model and architecture in MiGen', \"Enhancing modelling of users' strategies in exploratory learning through case-base maintenance\", 'Some ideas for a collaborative search of the optimal learning path', 'Using graph-based modelling to explore changes in students’ affective states during exploratory learning tasks', 'Scalable monitoring of student interaction indicators in exploratory learning environments', 'Talk, tutor, explore, learn: Intelligent tutoring and exploration for robust learning', 'Intelligent Student Support in the FLIP Learning System based on Student Initial Misconceptions and Student Modelling', 'Case-based reasoning approach to adaptive modelling in exploratory learning', 'Facilitating effective exploratory interaction: Design and evaluation of intelligent support in migen', 'Informing the design of intelligent support for ELE by communication capacity tapering', \"Visualisation and Analysis of Students' Interaction Data in Exploratory earning Environments\", 'Indicator visualisation for adaptive exploratory learning environments', 'Do Current Standards Support Adaptive Sequencing Interoperability?', 'Adaptive sequencing of information for lifelong learners', 'On the design of intelligent support for the expresser microworld', 'Potential macroeconomic benefits of stringent greenhouse-gas stabilisation targets: modelling the 2 C target in CIAS with E3MG 2000-2100', 'Intelligent support for exploratory environments', 'Secuenciamiento de actividades educativas orientado a la reutilización y la auto-organización en tutoría inteligente', 'Financial markets', 'Collecting Data To Enable Innovative Pricing Approaches', \"Light-Bulb Moment?: Towards adaptive presentation of feedback based on students' affective state\", 'Intelligent and Adaptive Student Support in FLIP-Early Computer Programming', '6th international workshop on intelligent support in exploratory and open-ended learning environments', 'Enhance Teaching and Learning of Computer Programming in Exploratory Learning Environments Using Intelligent Support', 'Indicator Visualization for Adaptive Exploratory Learning Environments', \"Mining students' strategies to enable collaborative learning\", 'EDM 2014 Extended Proceedings', 'Robust adaptation to climate change', 'The political bases of citizen contacting: A cross-national analysis', 'Striking a balance between free and guided exploration-conceptualizing support for exploratory learning environments', 'Increasing impacts of climate change upon ecosystems with increasing global mean temperature rise.', 'Enhancing modelling of users’ strategies in exploratory learning through case-base maintenance', 'Context-aware combination of adapted user profiles for interchange of knowledge between peers', 'Potential macroeconomic benefits of stringent greenhouse-gas stabilisation targets: modelling the 2 {sup 0} C target in CIAS with E3MG 2000-2100', 'An eco-friendly intelligent environment for exploring mathematical generalisation', 'Development and illustrative outputs of the Community Integrated Assessment System (CIAS), a multi-institutional modular integrated assessment approach for modelling climate …', 'Challenges for intelligent support in exploratory learning: the case of ShapeBuilder', 'Personalized resource sequencing in digital libraries', 'The visibility of models: using technology as a bridge between mathematics and engineering', 'SPECIAL SECTION ON EMERGING TOPICS IN EDUCATION–Part II', 'P50. 01 Potential macroeconomic benefits of stringent greenhouse-gas stabilisation targets: modelling the 2 C target in CIAS with E3MG 2000-2100', \"Striking a Balance Between Free and Guided Exploration-Conceptualizing Support in Exploratory Environments (ISEE'10)\", 'FUTURE APPLICATIONS BASED ON THE DATA PROVIDED BY NEXT GENERATION OF SMART METERS', 'Smart meters enable synchrophasor applications in distribution grids S. SANTOS*, A. LLANO, A. ARZUAGA, T. ARZUAGA, L. MARRÓN, M. ZAMALLOA', 'Intelligent Support in Exploratory and Open-ended Learning Environments Learning Analytics for Project Based and Experiential Learning Scenarios', 'Employing Speech to Contribute to Modelling and Adapting to Students’ Emotions', 'Computer-based Analysis of Student Constructions to Foster Creativity in Collaborative Activities', 'Teacher Assistance Tools for the Constructionist Classroom', 'Eirini Geraniou, e. geraniou@ ioe. ac. uk', 'Reusable Interactive Exercises for the International Internet Classroom', 'Towards sequencing adaptation in hypermedia systems with Bayesian networks']\n"
     ]
    }
   ],
   "source": [
    "print([pub.bib['title'] for pub in author.publications])"
   ]
  },
  {
   "cell_type": "code",
   "execution_count": 45,
   "metadata": {},
   "outputs": [],
   "source": [
    "yrs = []\n",
    "ttls = []\n",
    "for pub in author.publications:\n",
    "    try:\n",
    "        yrs.append(pub.bib['year'])\n",
    "        ttls.append(pub.bib['title'])\n",
    "    except:\n",
    "        pass"
   ]
  },
  {
   "cell_type": "code",
   "execution_count": 49,
   "metadata": {},
   "outputs": [
    {
     "name": "stdout",
     "output_type": "stream",
     "text": [
      "Lecturer in Computer Science, Birkbeck College, Univ. of London\n"
     ]
    }
   ],
   "source": []
  },
  {
   "cell_type": "code",
   "execution_count": 55,
   "metadata": {},
   "outputs": [
    {
     "data": {
      "text/plain": [
       "{'title': 'S.: The challenge of intelligent support in exploratory learning environments: A study of the scenarios',\n",
       " 'year': 2008}"
      ]
     },
     "execution_count": 55,
     "metadata": {},
     "output_type": "execute_result"
    }
   ],
   "source": [
    "author.publications[15].bib"
   ]
  },
  {
   "cell_type": "markdown",
   "metadata": {},
   "source": [
    "# The Actual Script"
   ]
  },
  {
   "cell_type": "code",
   "execution_count": 4,
   "metadata": {},
   "outputs": [],
   "source": [
    "import pandas as pd\n",
    "import scholarly\n",
    "import numpy as np\n",
    "import matplotlib.pyplot as plt\n",
    "%matplotlib inline"
   ]
  },
  {
   "cell_type": "markdown",
   "metadata": {},
   "source": [
    "## Random Name generation"
   ]
  },
  {
   "cell_type": "code",
   "execution_count": 5,
   "metadata": {},
   "outputs": [],
   "source": [
    "# import and shuffle Female and Male names that meet a given frequency of occurence\n",
    "Mnames = pd.read_csv('male_names.csv'); Mnames = Mnames[Mnames['frequency']>=23000]; Mnames = np.array(Mnames['name'])\n",
    "Fnames = pd.read_csv('female_names.csv'); Fnames = Fnames[Fnames['frequency']>=30000]; Fnames = np.array(Fnames['name'])\n",
    "names = np.concatenate((Mnames, Fnames)) # merge female and male names\n",
    "np.random.shuffle(names) # suhffle the names list\n",
    "\n",
    "# import and shuffle surnames, basically the same that was made for the names\n",
    "Snames = pd.read_csv('surnames_freq_ge_100.csv'); Snames = Snames[Snames['frequency_first']>=27000]; Snames = np.array(Snames['surname'])\n",
    "np.random.shuffle(Snames) # shuffle surnames"
   ]
  },
  {
   "cell_type": "code",
   "execution_count": 7,
   "metadata": {},
   "outputs": [
    {
     "name": "stdout",
     "output_type": "stream",
     "text": [
      "['CLAUDIA CASAS', 'JOAQUIN VILLAR', 'RAFAEL CAMPOS', 'AMPARO VILLANUEVA', 'ANTONIA SOLER', 'MARIO PASTOR', 'ANA ISABEL MORA', 'MARIA BELEN CAMACHO', 'PALOMA VILA', 'ANA MARIA MATEOS', 'MARGARITA SAEZ', 'FRANCISCO FERRER', 'VANESSA AGUILAR', 'LORENA VIDAL', 'BEATRIZ ROLDAN', 'ANTONIO JOSE VARGAS', 'MOHAMMED CASTILLO', 'FATIMA MARTINEZ', 'NICOLAS PEREIRA', 'MARIA LUZ ROJAS', 'BEGOÑA CRESPO', 'GREGORIO SOLER', 'SUSANA IZQUIERDO', 'CRISTIAN GIL', 'GEMMA CABALLERO', 'VICENTE CASAS', 'MARIA ESTHER CARRILLO', 'NURIA VICENTE', 'JULIA SUAREZ', 'MARIANO PARDO', 'VICTOR MANUEL MATEOS', 'VICENTA SANZ', 'ESTEFANIA MIRANDA', 'ELISA CRUZ', 'ISABEL SERRANO', 'LUCIA ORTIZ', 'MARIA JESUS PLAZA', 'ARACELI BRAVO', 'SILVIA CRUZ', 'RAFAEL LEON', 'PURIFICACION NAVARRO', 'ANA ISABEL FRANCO', 'AMPARO GALLARDO', 'JOSE VICENTE LORENZO', 'ASIER QUINTANA', 'CESAR MENDOZA', 'MARC CASADO', 'CRISTIAN CONDE', 'LUISA MENDEZ', 'JESUS BERNAL', 'DOMINGO SOLER', 'NURIA VIDAL', 'JOSEFA PASCUAL', 'AURORA CARRASCO', 'NURIA CANO', 'FELIPE ORTIZ', 'DANIEL SANZ', 'MARINA SERRANO', 'CELIA JURADO', 'LIDIA LARA', 'ERIC ALONSO', 'PAU FUENTES', 'ISMAEL NUÑEZ', 'DIEGO SANCHEZ', 'PAULA SERRA', 'ASIER MEDINA', 'ALEJANDRA CORTES', 'JUAN MANUEL BERNAL', 'ANA MARIA SOLER', 'ARACELI RAMOS', 'MARIA BEGOÑA FUENTES', 'CARLA CARRILLO', 'SALVADOR ACOSTA', 'SEBASTIAN RIVERO', 'FRANCISCO JOSE HEREDIA', 'ESPERANZA CASTRO', 'FATIMA DIEZ', 'JAIME EXPOSITO', 'VALENTIN MATEOS', 'JUAN MIGUEL VARELA', 'MARIA ROSARIO MENDEZ', 'MARCOS EXPOSITO', 'EVA RAMOS', 'XAVIER PEREIRA', 'GUILLERMO RICO', 'CESAR MORA', 'NATIVIDAD VELASCO', 'MIGUEL PASCUAL', 'CARLA REYES', 'AITOR MENDEZ', 'ANDREA NAVARRO', 'JUANA GUERRERO', 'MARIA ANGELES CALVO', 'RAFAEL TORRES', 'LIDIA RIVAS', 'MARIA JOSEFA GUERRA', 'CRISTIAN VILA', 'MARIA MAR LEON', 'ISAAC SANTOS', 'JOSE IGNACIO GUTIERREZ', 'GABRIEL CRESPO', 'ISABEL ABAD', 'OLGA HERRERA', 'OLGA GALVEZ', 'LUIS MIGUEL PASCUAL', 'MARIA JOSEFA ESTEVEZ', 'FELIPE RIOS', 'MATEO VICENTE', 'SONIA AGUILERA', 'ALBA MARTINEZ', 'LUISA TORRES', 'MARIA MAR ARIAS', 'VANESSA GARCIA', 'JOSEFINA IGLESIAS', 'CARMEN ROMERO', 'ADRIANA RAMIREZ', 'JAIME DOMINGUEZ', 'JUAN HEREDIA', 'ERIC CASTRO', 'MAGDALENA GALAN', 'CARLA GALLEGO', 'JUANA ESTEVEZ', 'SILVIA JURADO', 'VIRGINIA IZQUIERDO', 'MERCEDES COSTA', 'JOSE IGNACIO GARRIDO', 'JESUS MARIA CALVO', 'MOHAMMED GALVEZ', 'ROBERTO MORENO', 'CLAUDIA GONZALEZ', 'ANTONIO JESUS GALLARDO', 'JUAN LUIS ROCA', 'JORDI MACIAS', 'INES BLAZQUEZ', 'GABRIEL CUESTA', 'AITOR BUENO', 'JOSE VICENTE ARANDA', 'CONCEPCION MATEOS', 'VIRGINIA SANTAMARIA', 'ASCENSION FUENTES', 'GONZALO REYES', 'PILAR PLAZA', 'ISABEL PARRA', 'EVA MARIA PACHECO', 'JOSE CARLOS PRIETO', 'AARON ABAD', 'MARIA PILAR MARCOS', 'PEDRO JOSE VICENTE', 'ISMAEL ROMAN', 'HUGO RIVAS', 'MARIA JESUS VELASCO', 'JOSE ANTONIO CARRASCO', 'PAU SUAREZ', 'JOSE RAMON CARRASCO', 'JOEL GUERRA', 'MARIA ESTHER VEGA', 'FRANCISCA BENITO', 'ANTONIO JESUS GUERRERO', 'ANTONIO GALLEGO', 'JOSE MARIA VILLAR', 'JULIA APARICIO', 'ADRIAN RIVERA', 'EDUARDO CALDERON', 'ANA BELEN SANTOS', 'MARIA ELENA DURAN', 'XAVIER VALERO', 'PATRICIA VARELA', 'JOSE LUIS GUTIERREZ', 'CRISTOBAL ALONSO', 'JORGE SANZ', 'JULIAN ESPINOSA', 'MARIA CARMEN LOZANO', 'CATALINA RAMOS', 'MERCEDES MARTINEZ', 'MARIA MERCEDES GIMENEZ', 'INMACULADA APARICIO', 'MERCEDES SERRA', 'ANA DIAZ', 'IVAN PADILLA', 'LUISA MARTI', 'LUIS MIGUEL SERRANO', 'ANA BELEN GRACIA', 'MARIA ROSARIO SANTOS', 'JOSE CARLOS VILLAR', 'MARTA PADILLA', 'GEMA BERMUDEZ', 'VICTOR ABAD', 'PILAR VILLANUEVA', 'ASCENSION BENITEZ', 'JULIA GUERRERO', 'MOISES CARMONA', 'MOHAMED JURADO', 'ARTURO SANTIAGO', 'ROSARIO BRAVO', 'ISABEL MARIA JIMENEZ', 'EDUARDO GIL', 'ANDRES ROBLES', 'GABRIEL ROBLES', 'JOSE ANGEL AGUILAR', 'ALEJANDRO MORA']\n"
     ]
    }
   ],
   "source": [
    "# make a limited number of name combinations\n",
    "Complete_name = [] # empty list to fill with weird random names\n",
    "N = 200 # limit the number of random names generated\n",
    "\n",
    "# generate names that are not repeated between each other\n",
    "while len(Complete_name) < N:\n",
    "    indx1 = np.random.randint(0, high = len(names) - 1) # generate a random pair of numbers\n",
    "    indx2 = np.random.randint(0, high = len(Snames) - 1)\n",
    "    Complete_name.append(names[indx1] + ' ' + Snames[indx2]) # make up a name with the random indicies\n",
    "    Complete_name = np.unique(Complete_name) # check if there are repeated names ('Complete_name' is converted to ndarray)\n",
    "    Complete_name = list(Complete_name) # Revert 'Complete_name' to be a list\n",
    "\n",
    "np.random.shuffle(Complete_name) # shuffle generated names again to increase randomness in the following search\n",
    "print(Complete_name)\n",
    "Complete_name = ['Alejandro Ángel Ceballos']"
   ]
  },
  {
   "cell_type": "code",
   "execution_count": 11,
   "metadata": {},
   "outputs": [
    {
     "name": "stdout",
     "output_type": "stream",
     "text": [
      "Alejandro Ángel Ceballos\n"
     ]
    }
   ],
   "source": [
    "authors = []\n",
    "\n",
    "try:\n",
    "    for authorName in Complete_name:\n",
    "        print(authorName)\n",
    "        search = scholarly.search_author(authorName)\n",
    "        author = next(search).fill()\n",
    "        print(author)\n",
    "        authors.append(author)\n",
    "        print('An author has been found!')\n",
    "except:\n",
    "    pass"
   ]
  },
  {
   "cell_type": "code",
   "execution_count": 9,
   "metadata": {},
   "outputs": [
    {
     "data": {
      "text/plain": [
       "[]"
      ]
     },
     "execution_count": 9,
     "metadata": {},
     "output_type": "execute_result"
    }
   ],
   "source": [
    "authors"
   ]
  },
  {
   "cell_type": "code",
   "execution_count": null,
   "metadata": {},
   "outputs": [],
   "source": []
  }
 ],
 "metadata": {
  "kernelspec": {
   "display_name": "Python 3",
   "language": "python",
   "name": "python3"
  },
  "language_info": {
   "codemirror_mode": {
    "name": "ipython",
    "version": 3
   },
   "file_extension": ".py",
   "mimetype": "text/x-python",
   "name": "python",
   "nbconvert_exporter": "python",
   "pygments_lexer": "ipython3",
   "version": "3.7.3"
  }
 },
 "nbformat": 4,
 "nbformat_minor": 2
}
